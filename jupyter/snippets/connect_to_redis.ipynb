{
 "cells": [
  {
   "cell_type": "code",
   "execution_count": null,
   "id": "13b272da-e713-4777-a889-de9a5d19bc98",
   "metadata": {},
   "outputs": [],
   "source": [
    "#!pip install redis\n",
    "import redis"
   ]
  },
  {
   "cell_type": "code",
   "execution_count": null,
   "id": "30b06166-0916-4799-8a83-f03ddf0e05b2",
   "metadata": {},
   "outputs": [],
   "source": [
    "r = redis.Redis(host='redis', port=6379)\n",
    "r.set('foo', 'bar')\n",
    "value = r.get('foo')\n",
    "print(value)"
   ]
  }
 ],
 "metadata": {
  "kernelspec": {
   "display_name": "Python 3 (ipykernel)",
   "language": "python",
   "name": "python3"
  },
  "language_info": {
   "codemirror_mode": {
    "name": "ipython",
    "version": 3
   },
   "file_extension": ".py",
   "mimetype": "text/x-python",
   "name": "python",
   "nbconvert_exporter": "python",
   "pygments_lexer": "ipython3",
   "version": "3.10.6"
  }
 },
 "nbformat": 4,
 "nbformat_minor": 5
}
