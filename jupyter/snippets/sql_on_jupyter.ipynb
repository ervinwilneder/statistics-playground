{
 "cells": [
  {
   "cell_type": "code",
   "execution_count": 39,
   "id": "68e1e87c-e42d-49d9-b82f-7132beae6861",
   "metadata": {},
   "outputs": [],
   "source": [
    "%%capture\n",
    "#!pip install duckdb\n",
    "#!pip install jupysql\n",
    "#!pip install duckdb-engine\n",
    "import duckdb\n",
    "import pandas as pd"
   ]
  },
  {
   "cell_type": "code",
   "execution_count": null,
   "id": "70824d35-c58f-47f3-9c22-6bd330231a4c",
   "metadata": {},
   "outputs": [],
   "source": [
    "%load_ext sql\n",
    "%config SqlMagic.autopandas = True\n",
    "%config SqlMagic.feedback = False\n",
    "%config SqlMagic.displaycon = False\n",
    "%sql duckdb:///:memory:"
   ]
  },
  {
   "cell_type": "code",
   "execution_count": 35,
   "id": "1ebc74a5-33b4-40f1-aa32-fa74dd35a98a",
   "metadata": {},
   "outputs": [],
   "source": [
    "data = pd.read_csv('https://cdn.buenosaires.gob.ar/datosabiertos/datasets/transporte-y-obras-publicas/sube/dataset_viajes_sube.csv')"
   ]
  },
  {
   "cell_type": "code",
   "execution_count": 37,
   "id": "5ca2be7b-d5d6-480f-b77f-c93ce750a2bb",
   "metadata": {},
   "outputs": [
    {
     "data": {
      "text/html": [
       "<div>\n",
       "<style scoped>\n",
       "    .dataframe tbody tr th:only-of-type {\n",
       "        vertical-align: middle;\n",
       "    }\n",
       "\n",
       "    .dataframe tbody tr th {\n",
       "        vertical-align: top;\n",
       "    }\n",
       "\n",
       "    .dataframe thead th {\n",
       "        text-align: right;\n",
       "    }\n",
       "</style>\n",
       "<table border=\"1\" class=\"dataframe\">\n",
       "  <thead>\n",
       "    <tr style=\"text-align: right;\">\n",
       "      <th></th>\n",
       "      <th>TIPO_TRANSPORTE</th>\n",
       "      <th>DIA</th>\n",
       "      <th>PARCIAL</th>\n",
       "      <th>CANTIDAD</th>\n",
       "    </tr>\n",
       "  </thead>\n",
       "  <tbody>\n",
       "    <tr>\n",
       "      <th>0</th>\n",
       "      <td>Subte</td>\n",
       "      <td>31MAR2020:00:00:00</td>\n",
       "      <td>None</td>\n",
       "      <td>None</td>\n",
       "    </tr>\n",
       "    <tr>\n",
       "      <th>1</th>\n",
       "      <td>Subte</td>\n",
       "      <td>01APR2020:00:00:00</td>\n",
       "      <td>None</td>\n",
       "      <td>None</td>\n",
       "    </tr>\n",
       "    <tr>\n",
       "      <th>2</th>\n",
       "      <td>Subte</td>\n",
       "      <td>02APR2020:00:00:00</td>\n",
       "      <td>None</td>\n",
       "      <td>None</td>\n",
       "    </tr>\n",
       "    <tr>\n",
       "      <th>3</th>\n",
       "      <td>Subte</td>\n",
       "      <td>03APR2020:00:00:00</td>\n",
       "      <td>None</td>\n",
       "      <td>None</td>\n",
       "    </tr>\n",
       "    <tr>\n",
       "      <th>4</th>\n",
       "      <td>Subte</td>\n",
       "      <td>04APR2020:00:00:00</td>\n",
       "      <td>None</td>\n",
       "      <td>None</td>\n",
       "    </tr>\n",
       "  </tbody>\n",
       "</table>\n",
       "</div>"
      ],
      "text/plain": [
       "  TIPO_TRANSPORTE                 DIA PARCIAL CANTIDAD\n",
       "0           Subte  31MAR2020:00:00:00    None     None\n",
       "1           Subte  01APR2020:00:00:00    None     None\n",
       "2           Subte  02APR2020:00:00:00    None     None\n",
       "3           Subte  03APR2020:00:00:00    None     None\n",
       "4           Subte  04APR2020:00:00:00    None     None"
      ]
     },
     "execution_count": 37,
     "metadata": {},
     "output_type": "execute_result"
    }
   ],
   "source": [
    "%%sql\n",
    "SELECT *\n",
    "FROM data\n",
    "LIMIT 5"
   ]
  }
 ],
 "metadata": {
  "kernelspec": {
   "display_name": "Python 3 (ipykernel)",
   "language": "python",
   "name": "python3"
  },
  "language_info": {
   "codemirror_mode": {
    "name": "ipython",
    "version": 3
   },
   "file_extension": ".py",
   "mimetype": "text/x-python",
   "name": "python",
   "nbconvert_exporter": "python",
   "pygments_lexer": "ipython3",
   "version": "3.10.6"
  }
 },
 "nbformat": 4,
 "nbformat_minor": 5
}
